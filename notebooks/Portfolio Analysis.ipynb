{
 "cells": [
  {
   "cell_type": "code",
   "execution_count": 1,
   "metadata": {},
   "outputs": [],
   "source": [
    "import os\n",
    "import requests\n",
    "import numpy as np\n",
    "import pandas as pd\n",
    "import matplotlib.pyplot as plt\n",
    "import seaborn as sns\n",
    "%matplotlib inline"
   ]
  },
  {
   "cell_type": "code",
   "execution_count": null,
   "metadata": {},
   "outputs": [],
   "source": [
    "NOTEBOOKS_DIRECTORY = os.getcwd()\n",
    "DATA_DIRECTORY = os.path.join(os.path.dirname(NOTEBOOKS_DIRECTORY), 'data')\n",
    "\n",
    "data_files = [file for file in os.listdir(DATA_DIRECTORY) if '.csv' in file.lower()]\n",
    "data_files = sorted(data_files, reverse = True)\n",
    "portfolio_file = os.path.join(DATA_DIRECTORY, data_files[0])\n",
    "portfolio_df = pd.read_csv(portfolio_file, skiprows=3)\n",
    "\n",
    "portfolio_df = portfolio_df[['Symbol', 'Description', 'Quantity', 'Cost Basis', '% Of Account']]\n",
    "portfolio_df = portfolio_df.loc[~portfolio_df['Symbol'].isin(['Cash & Cash Investments', 'Account Total'])]\n",
    "portfolio_df = portfolio_df.replace({'BRK/B':'BRK-B'})\n",
    "\n",
    "print(portfolio_df.shape)\n",
    "print(portfolio_df.info())\n",
    "\n",
    "portfolio_df.head(5)"
   ]
  },
  {
   "cell_type": "code",
   "execution_count": null,
   "metadata": {},
   "outputs": [],
   "source": [
    "def get_profile_data(portfolio, attribute):\n",
    "    \"\"\"\n",
    "    Company Profile of Items\n",
    "    \"\"\"\n",
    "    \n",
    "    stock = portfolio['Symbol']\n",
    "    profile = requests.get(f'https://financialmodelingprep.com/api/v3/company/profile/{stock}')\n",
    "    profile = profile.json()\n",
    "    \n",
    "    try:\n",
    "        return profile['profile'][attribute]\n",
    "    except:\n",
    "        return None\n",
    "\n",
    "def get_quote_data(portfolio, attribute):\n",
    "    \"\"\"\n",
    "    Company Quote Group of Items\n",
    "    \"\"\"\n",
    "    \n",
    "    stock = portfolio['Symbol']\n",
    "    company_quote = requests.get(f'https://financialmodelingprep.com/api/v3/quote/{stock}')\n",
    "    company_quote = company_quote.json()\n",
    "    \n",
    "    try:\n",
    "        return float('{0:.2f}'.format(company_quote[0][attribute]))\n",
    "    except:\n",
    "        return None\n",
    "\n",
    "def get_balance_sheet_data(portfolio, attribute, quarter):\n",
    "    \"\"\"\n",
    "    Balance Sheet Group of Items\n",
    "    \"\"\"\n",
    "    \n",
    "    stock = portfolio['Symbol']\n",
    "    bs = requests.get(f\"https://financialmodelingprep.com/api/v3/financials/balance-sheet-statement/{stock}?period=quarter\")\n",
    "    bs = bs.json()\n",
    "    \n",
    "    try:\n",
    "        return bs['financials'][quarter][attribute]\n",
    "    except:\n",
    "        return None\n",
    "\n",
    "def get_income_statement_data(portfolio, attribute, quarter):\n",
    "    \"\"\"\n",
    "    Income Statement Group of Items\n",
    "    \"\"\"\n",
    "    \n",
    "    stock = portfolio['Symbol']\n",
    "    income_stat = requests.get(f\"https://financialmodelingprep.com/api/v3/financials/income-statement/{stock}?period=quarter\")\n",
    "    income_stat = income_stat.json()\n",
    "    \n",
    "    try:\n",
    "        return income_stat['financials'][quarter][attribute]\n",
    "    except:\n",
    "        return None"
   ]
  },
  {
   "cell_type": "code",
   "execution_count": null,
   "metadata": {},
   "outputs": [],
   "source": [
    "portfolio_df['price'] = portfolio_df.apply(lambda stock: get_quote_data(stock, 'price'), axis=1)"
   ]
  },
  {
   "cell_type": "code",
   "execution_count": null,
   "metadata": {},
   "outputs": [],
   "source": [
    "portfolio_df"
   ]
  },
  {
   "cell_type": "code",
   "execution_count": null,
   "metadata": {},
   "outputs": [],
   "source": []
  }
 ],
 "metadata": {
  "kernelspec": {
   "display_name": "Python 3",
   "language": "python",
   "name": "python3"
  },
  "language_info": {
   "codemirror_mode": {
    "name": "ipython",
    "version": 3
   },
   "file_extension": ".py",
   "mimetype": "text/x-python",
   "name": "python",
   "nbconvert_exporter": "python",
   "pygments_lexer": "ipython3",
   "version": "3.7.7"
  }
 },
 "nbformat": 4,
 "nbformat_minor": 4
}
